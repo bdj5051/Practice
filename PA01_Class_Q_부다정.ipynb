{
 "cells": [
  {
   "cell_type": "markdown",
   "metadata": {},
   "source": [
    "## 1. [Classification 연습]\n",
    "pandas library를 이용해 ClassData.csv를 읽어와 다음 물음에 답하시오."
   ]
  },
  {
   "cell_type": "code",
   "execution_count": 3,
   "metadata": {},
   "outputs": [],
   "source": [
    "import pandas as pd\n",
    "clf_csv = pd.read_csv(\"mglearn/data/ClassData.csv\")"
   ]
  },
  {
   "cell_type": "markdown",
   "metadata": {},
   "source": [
    "(1) 처음 5개 행을 출력하시오."
   ]
  },
  {
   "cell_type": "code",
   "execution_count": 4,
   "metadata": {
    "scrolled": true
   },
   "outputs": [
    {
     "data": {
      "text/html": [
       "<div>\n",
       "<style scoped>\n",
       "    .dataframe tbody tr th:only-of-type {\n",
       "        vertical-align: middle;\n",
       "    }\n",
       "\n",
       "    .dataframe tbody tr th {\n",
       "        vertical-align: top;\n",
       "    }\n",
       "\n",
       "    .dataframe thead th {\n",
       "        text-align: right;\n",
       "    }\n",
       "</style>\n",
       "<table border=\"1\" class=\"dataframe\">\n",
       "  <thead>\n",
       "    <tr style=\"text-align: right;\">\n",
       "      <th></th>\n",
       "      <th>ID</th>\n",
       "      <th>Korean</th>\n",
       "      <th>History</th>\n",
       "      <th>Math</th>\n",
       "      <th>Science</th>\n",
       "      <th>NoAbs</th>\n",
       "      <th>SleepHr</th>\n",
       "      <th>HrPrvLWk</th>\n",
       "      <th>VolHr</th>\n",
       "      <th>ExecHrWk</th>\n",
       "      <th>RestHrWk</th>\n",
       "      <th>PassFail</th>\n",
       "    </tr>\n",
       "  </thead>\n",
       "  <tbody>\n",
       "    <tr>\n",
       "      <th>0</th>\n",
       "      <td>18090001</td>\n",
       "      <td>95</td>\n",
       "      <td>98</td>\n",
       "      <td>99</td>\n",
       "      <td>100</td>\n",
       "      <td>0</td>\n",
       "      <td>4.9</td>\n",
       "      <td>22</td>\n",
       "      <td>125</td>\n",
       "      <td>5</td>\n",
       "      <td>9</td>\n",
       "      <td>1</td>\n",
       "    </tr>\n",
       "    <tr>\n",
       "      <th>1</th>\n",
       "      <td>18090002</td>\n",
       "      <td>100</td>\n",
       "      <td>97</td>\n",
       "      <td>98</td>\n",
       "      <td>98</td>\n",
       "      <td>0</td>\n",
       "      <td>4.2</td>\n",
       "      <td>24</td>\n",
       "      <td>125</td>\n",
       "      <td>6</td>\n",
       "      <td>8</td>\n",
       "      <td>1</td>\n",
       "    </tr>\n",
       "    <tr>\n",
       "      <th>2</th>\n",
       "      <td>18090003</td>\n",
       "      <td>96</td>\n",
       "      <td>95</td>\n",
       "      <td>96</td>\n",
       "      <td>99</td>\n",
       "      <td>0</td>\n",
       "      <td>4.3</td>\n",
       "      <td>21</td>\n",
       "      <td>126</td>\n",
       "      <td>5</td>\n",
       "      <td>8</td>\n",
       "      <td>1</td>\n",
       "    </tr>\n",
       "    <tr>\n",
       "      <th>3</th>\n",
       "      <td>18090004</td>\n",
       "      <td>98</td>\n",
       "      <td>97</td>\n",
       "      <td>100</td>\n",
       "      <td>99</td>\n",
       "      <td>0</td>\n",
       "      <td>4.9</td>\n",
       "      <td>24</td>\n",
       "      <td>126</td>\n",
       "      <td>3</td>\n",
       "      <td>8</td>\n",
       "      <td>1</td>\n",
       "    </tr>\n",
       "    <tr>\n",
       "      <th>4</th>\n",
       "      <td>18090005</td>\n",
       "      <td>97</td>\n",
       "      <td>99</td>\n",
       "      <td>100</td>\n",
       "      <td>98</td>\n",
       "      <td>0</td>\n",
       "      <td>4.9</td>\n",
       "      <td>22</td>\n",
       "      <td>121</td>\n",
       "      <td>6</td>\n",
       "      <td>12</td>\n",
       "      <td>1</td>\n",
       "    </tr>\n",
       "  </tbody>\n",
       "</table>\n",
       "</div>"
      ],
      "text/plain": [
       "         ID  Korean  History  Math  Science  NoAbs  SleepHr  HrPrvLWk  VolHr  \\\n",
       "0  18090001      95       98    99      100      0      4.9        22    125   \n",
       "1  18090002     100       97    98       98      0      4.2        24    125   \n",
       "2  18090003      96       95    96       99      0      4.3        21    126   \n",
       "3  18090004      98       97   100       99      0      4.9        24    126   \n",
       "4  18090005      97       99   100       98      0      4.9        22    121   \n",
       "\n",
       "   ExecHrWk  RestHrWk  PassFail  \n",
       "0         5         9         1  \n",
       "1         6         8         1  \n",
       "2         5         8         1  \n",
       "3         3         8         1  \n",
       "4         6        12         1  "
      ]
     },
     "execution_count": 4,
     "metadata": {},
     "output_type": "execute_result"
    }
   ],
   "source": [
    "clf_csv.head(5)"
   ]
  },
  {
   "cell_type": "markdown",
   "metadata": {},
   "source": [
    "(2) X에는 'Korean':'RestHrWk'를 할당하고, y에는 'PassFail'을 할당하세요."
   ]
  },
  {
   "cell_type": "code",
   "execution_count": 44,
   "metadata": {},
   "outputs": [],
   "source": [
    "from sklearn.model_selection import train_test_split\n",
    "X = clf_csv.loc[:,'Korean':'RestHrWk']\n",
    "y = clf_csv['PassFail']"
   ]
  },
  {
   "cell_type": "markdown",
   "metadata": {},
   "source": [
    "(3) 훈련데이터셋과 테스트 데이터셋을 나누고 차원을 출력하시오. (random_state = 1809로 지정)"
   ]
  },
  {
   "cell_type": "code",
   "execution_count": 16,
   "metadata": {},
   "outputs": [
    {
     "name": "stdout",
     "output_type": "stream",
     "text": [
      "(750, 10)  (750,)  (250, 10)  (250,)\n"
     ]
    }
   ],
   "source": [
    "X_train, X_test, y_train, y_test = train_test_split(X, y, random_state = 1809)\n",
    "print(str(X_train.shape)+'  '+str(y_train.shape)+'  '+str(X_test.shape)+'  '+str(y_test.shape))"
   ]
  },
  {
   "cell_type": "markdown",
   "metadata": {},
   "source": [
    "(4) LogisticRegression을 사용해 훈련 스코어와 테스트 스코어를 산출하세요."
   ]
  },
  {
   "cell_type": "code",
   "execution_count": 49,
   "metadata": {},
   "outputs": [
    {
     "name": "stdout",
     "output_type": "stream",
     "text": [
      "0.82  0.768\n",
      "훈련 스코어 : 0.820\n",
      "테스트 스코어 : 0.768\n"
     ]
    }
   ],
   "source": [
    "from sklearn.linear_model import LogisticRegression\n",
    "\n",
    "logreg = LogisticRegression().fit(X_train, y_train)\n",
    "print(str(logreg.score(X_train, y_train)) + \"  \" + str(logreg.score(X_test, y_test)))\n",
    "print(\"훈련 스코어 : {:.3f}\".format(logreg.score(X_train, y_train)))\n",
    "print(\"테스트 스코어 : {:.3f}\".format(logreg.score(X_test, y_test)))"
   ]
  },
  {
   "cell_type": "markdown",
   "metadata": {},
   "source": [
    "(5) SVC의 디폴트 파라미터로 훈련 스코어와 테스트 스코어를 산출하세요."
   ]
  },
  {
   "cell_type": "code",
   "execution_count": 50,
   "metadata": {},
   "outputs": [
    {
     "name": "stdout",
     "output_type": "stream",
     "text": [
      "1.0  0.784\n",
      "훈련 스코어 : 1.000\n",
      "테스트 스코어 : 0.784\n"
     ]
    }
   ],
   "source": [
    "from sklearn.svm import SVC\n",
    "svm = SVC()\n",
    "svm.fit(X_train, y_train)\n",
    "print(str(svm.score(X_train, y_train)) + \"  \" + str(svm.score(X_test, y_test)))\n",
    "print(\"훈련 스코어 : {:.3f}\".format(svm.score(X_train, y_train)))\n",
    "print(\"테스트 스코어 : {:.3f}\".format(svm.score(X_test, y_test)))"
   ]
  },
  {
   "cell_type": "markdown",
   "metadata": {},
   "source": [
    "(6) MLP의 디폴트 파라미터로 훈련 스코어와 테스트 스코어를 산출하세요.(random_state = 1809로 지정)"
   ]
  },
  {
   "cell_type": "code",
   "execution_count": 51,
   "metadata": {},
   "outputs": [
    {
     "name": "stdout",
     "output_type": "stream",
     "text": [
      "0.8386666666666667  0.784\n",
      "훈련 스코어 : 0.839\n",
      "테스트 스코어 : 0.784\n"
     ]
    }
   ],
   "source": [
    "from sklearn.neural_network import MLPClassifier\n",
    "mlp = MLPClassifier(random_state=1809)\n",
    "mlp.fit(X_train, y_train)\n",
    "print(str(mlp.score(X_train, y_train)) + \"  \" + str(mlp.score(X_test, y_test)))\n",
    "print(\"훈련 스코어 : {:.3f}\".format(mlp.score(X_train, y_train)))\n",
    "print(\"테스트 스코어 : {:.3f}\".format(mlp.score(X_test, y_test)))"
   ]
  },
  {
   "cell_type": "markdown",
   "metadata": {},
   "source": [
    "(7) MLP의 파라미터를 solver='lbgfs', hidden_layer_sizes=[30, 30]으로 하여 훈련 스코어와 테스트 스코어를 산출하세요.(random_state = 1809로 지정)"
   ]
  },
  {
   "cell_type": "code",
   "execution_count": 52,
   "metadata": {},
   "outputs": [
    {
     "name": "stdout",
     "output_type": "stream",
     "text": [
      "0.8413333333333334  0.808\n",
      "훈련 스코어 : 0.841\n",
      "테스트 스코어 : 0.808\n"
     ]
    }
   ],
   "source": [
    "mlp1 = MLPClassifier(solver='lbfgs', random_state = 1809, hidden_layer_sizes=[30, 30])\n",
    "mlp1.fit(X_train, y_train)\n",
    "print(str(mlp1.score(X_train, y_train)) + \"  \" + str(mlp1.score(X_test, y_test)))\n",
    "print(\"훈련 스코어 : {:.3f}\".format(mlp1.score(X_train, y_train)))\n",
    "print(\"테스트 스코어 : {:.3f}\".format(mlp1.score(X_test, y_test)))"
   ]
  },
  {
   "cell_type": "markdown",
   "metadata": {},
   "source": [
    "## 2. [Scaler, GridSearchCV 연습]\n",
    "위 문제에 이어 같은 데이터로 다음에 답하시오."
   ]
  },
  {
   "cell_type": "markdown",
   "metadata": {},
   "source": [
    "(1) MinMaxScaler를 이용해 X_train과 X_test를 scaling하고, ps.DataFrame(X_train_scale).describe()를 출력하여 최대값과 최소값을 확인해 보세요."
   ]
  },
  {
   "cell_type": "code",
   "execution_count": 32,
   "metadata": {},
   "outputs": [],
   "source": [
    "from sklearn.preprocessing import MinMaxScaler\n",
    "\n",
    "scaler = MinMaxScaler()\n",
    "scaler.fit(X_train)\n",
    "X_train_scaled = scaler.transform(X_train)\n",
    "X_test_scaled = scaler.transform(X_test)"
   ]
  },
  {
   "cell_type": "code",
   "execution_count": 33,
   "metadata": {},
   "outputs": [
    {
     "data": {
      "text/html": [
       "<div>\n",
       "<style scoped>\n",
       "    .dataframe tbody tr th:only-of-type {\n",
       "        vertical-align: middle;\n",
       "    }\n",
       "\n",
       "    .dataframe tbody tr th {\n",
       "        vertical-align: top;\n",
       "    }\n",
       "\n",
       "    .dataframe thead th {\n",
       "        text-align: right;\n",
       "    }\n",
       "</style>\n",
       "<table border=\"1\" class=\"dataframe\">\n",
       "  <thead>\n",
       "    <tr style=\"text-align: right;\">\n",
       "      <th></th>\n",
       "      <th>0</th>\n",
       "      <th>1</th>\n",
       "      <th>2</th>\n",
       "      <th>3</th>\n",
       "      <th>4</th>\n",
       "      <th>5</th>\n",
       "      <th>6</th>\n",
       "      <th>7</th>\n",
       "      <th>8</th>\n",
       "      <th>9</th>\n",
       "    </tr>\n",
       "  </thead>\n",
       "  <tbody>\n",
       "    <tr>\n",
       "      <th>count</th>\n",
       "      <td>750.000000</td>\n",
       "      <td>750.000000</td>\n",
       "      <td>750.000000</td>\n",
       "      <td>750.000000</td>\n",
       "      <td>750.000000</td>\n",
       "      <td>750.000000</td>\n",
       "      <td>750.000000</td>\n",
       "      <td>750.000000</td>\n",
       "      <td>750.000000</td>\n",
       "      <td>750.000000</td>\n",
       "    </tr>\n",
       "    <tr>\n",
       "      <th>mean</th>\n",
       "      <td>0.461467</td>\n",
       "      <td>0.676889</td>\n",
       "      <td>0.421644</td>\n",
       "      <td>0.611500</td>\n",
       "      <td>0.142667</td>\n",
       "      <td>0.362167</td>\n",
       "      <td>0.691487</td>\n",
       "      <td>0.658133</td>\n",
       "      <td>0.444952</td>\n",
       "      <td>0.475708</td>\n",
       "    </tr>\n",
       "    <tr>\n",
       "      <th>std</th>\n",
       "      <td>0.287298</td>\n",
       "      <td>0.285150</td>\n",
       "      <td>0.215581</td>\n",
       "      <td>0.236978</td>\n",
       "      <td>0.149832</td>\n",
       "      <td>0.212482</td>\n",
       "      <td>0.182391</td>\n",
       "      <td>0.242676</td>\n",
       "      <td>0.233740</td>\n",
       "      <td>0.249655</td>\n",
       "    </tr>\n",
       "    <tr>\n",
       "      <th>min</th>\n",
       "      <td>0.000000</td>\n",
       "      <td>0.000000</td>\n",
       "      <td>0.000000</td>\n",
       "      <td>0.000000</td>\n",
       "      <td>0.000000</td>\n",
       "      <td>0.000000</td>\n",
       "      <td>0.000000</td>\n",
       "      <td>0.000000</td>\n",
       "      <td>0.000000</td>\n",
       "      <td>0.000000</td>\n",
       "    </tr>\n",
       "    <tr>\n",
       "      <th>25%</th>\n",
       "      <td>0.225000</td>\n",
       "      <td>0.534314</td>\n",
       "      <td>0.266667</td>\n",
       "      <td>0.535714</td>\n",
       "      <td>0.050000</td>\n",
       "      <td>0.215909</td>\n",
       "      <td>0.653846</td>\n",
       "      <td>0.488889</td>\n",
       "      <td>0.285714</td>\n",
       "      <td>0.250000</td>\n",
       "    </tr>\n",
       "    <tr>\n",
       "      <th>50%</th>\n",
       "      <td>0.375000</td>\n",
       "      <td>0.823529</td>\n",
       "      <td>0.366667</td>\n",
       "      <td>0.625000</td>\n",
       "      <td>0.100000</td>\n",
       "      <td>0.329545</td>\n",
       "      <td>0.730769</td>\n",
       "      <td>0.722222</td>\n",
       "      <td>0.428571</td>\n",
       "      <td>0.500000</td>\n",
       "    </tr>\n",
       "    <tr>\n",
       "      <th>75%</th>\n",
       "      <td>0.725000</td>\n",
       "      <td>0.882353</td>\n",
       "      <td>0.566667</td>\n",
       "      <td>0.714286</td>\n",
       "      <td>0.200000</td>\n",
       "      <td>0.500000</td>\n",
       "      <td>0.807692</td>\n",
       "      <td>0.844444</td>\n",
       "      <td>0.571429</td>\n",
       "      <td>0.687500</td>\n",
       "    </tr>\n",
       "    <tr>\n",
       "      <th>max</th>\n",
       "      <td>1.000000</td>\n",
       "      <td>1.000000</td>\n",
       "      <td>1.000000</td>\n",
       "      <td>1.000000</td>\n",
       "      <td>1.000000</td>\n",
       "      <td>1.000000</td>\n",
       "      <td>1.000000</td>\n",
       "      <td>1.000000</td>\n",
       "      <td>1.000000</td>\n",
       "      <td>1.000000</td>\n",
       "    </tr>\n",
       "  </tbody>\n",
       "</table>\n",
       "</div>"
      ],
      "text/plain": [
       "                0           1           2           3           4           5  \\\n",
       "count  750.000000  750.000000  750.000000  750.000000  750.000000  750.000000   \n",
       "mean     0.461467    0.676889    0.421644    0.611500    0.142667    0.362167   \n",
       "std      0.287298    0.285150    0.215581    0.236978    0.149832    0.212482   \n",
       "min      0.000000    0.000000    0.000000    0.000000    0.000000    0.000000   \n",
       "25%      0.225000    0.534314    0.266667    0.535714    0.050000    0.215909   \n",
       "50%      0.375000    0.823529    0.366667    0.625000    0.100000    0.329545   \n",
       "75%      0.725000    0.882353    0.566667    0.714286    0.200000    0.500000   \n",
       "max      1.000000    1.000000    1.000000    1.000000    1.000000    1.000000   \n",
       "\n",
       "                6           7           8           9  \n",
       "count  750.000000  750.000000  750.000000  750.000000  \n",
       "mean     0.691487    0.658133    0.444952    0.475708  \n",
       "std      0.182391    0.242676    0.233740    0.249655  \n",
       "min      0.000000    0.000000    0.000000    0.000000  \n",
       "25%      0.653846    0.488889    0.285714    0.250000  \n",
       "50%      0.730769    0.722222    0.428571    0.500000  \n",
       "75%      0.807692    0.844444    0.571429    0.687500  \n",
       "max      1.000000    1.000000    1.000000    1.000000  "
      ]
     },
     "execution_count": 33,
     "metadata": {},
     "output_type": "execute_result"
    }
   ],
   "source": [
    "pd.DataFrame(X_train_scaled).describe()"
   ]
  },
  {
   "cell_type": "markdown",
   "metadata": {},
   "source": [
    "(2) 위의 <<<scale 조정 후>>> 데이터를 이용해 SVC를 파라미터 kernel='rbf', C=10, gamma=0.1로 설정해 훈련,테스트 스코어를 산출하시오."
   ]
  },
  {
   "cell_type": "code",
   "execution_count": 54,
   "metadata": {
    "scrolled": true
   },
   "outputs": [
    {
     "name": "stdout",
     "output_type": "stream",
     "text": [
      "0.848  0.82\n",
      "훈련 스코어 : 0.848\n",
      "테스트 스코어 : 0.820\n"
     ]
    }
   ],
   "source": [
    "svm = SVC(kernel='rbf', C=10, gamma=0.1).fit(X_train_scaled, y_train)\n",
    "print(str(svm.score(X_train_scaled, y_train)) + \"  \" + str(svm.score(X_test_scaled, y_test)))\n",
    "print(\"훈련 스코어 : {:.3f}\".format(svm.score(X_train_scaled, y_train)))\n",
    "print(\"테스트 스코어 : {:.3f}\".format(svm.score(X_test_scaled, y_test)))"
   ]
  },
  {
   "cell_type": "markdown",
   "metadata": {},
   "source": [
    "(3) 위의 <<<scale 조정 후>>> 데이터를 이용해 LogisticRegression를 이용해 훈련,테스트 스코어를 산출하시오."
   ]
  },
  {
   "cell_type": "code",
   "execution_count": 55,
   "metadata": {
    "scrolled": true
   },
   "outputs": [
    {
     "name": "stdout",
     "output_type": "stream",
     "text": [
      "0.808  0.752\n",
      "훈련 스코어 : 0.808\n",
      "테스트 스코어 : 0.752\n"
     ]
    }
   ],
   "source": [
    "logreg = LogisticRegression().fit(X_train_scaled, y_train)\n",
    "print(str(logreg.score(X_train_scaled, y_train)) + \"  \" + str(logreg.score(X_test_scaled, y_test)))\n",
    "print(\"훈련 스코어 : {:.3f}\".format(logreg.score(X_train_scaled, y_train)))\n",
    "print(\"테스트 스코어 : {:.3f}\".format(logreg.score(X_test_scaled, y_test)))"
   ]
  },
  {
   "cell_type": "markdown",
   "metadata": {},
   "source": [
    "(4) 아래와 같은 grid와 SVC, <<<스케일 조정 전>>> 데이터로 GridSearchCV를 구성해 best_params_와 테스트셋 score를 산출하시오."
   ]
  },
  {
   "cell_type": "code",
   "execution_count": 56,
   "metadata": {},
   "outputs": [
    {
     "name": "stdout",
     "output_type": "stream",
     "text": [
      "{'C': 10, 'gamma': 0.01}  0.944\n",
      "best_params_:{'C': 10, 'gamma': 0.01}\n",
      "테스트셋 score:0.94\n"
     ]
    }
   ],
   "source": [
    "from sklearn.model_selection import GridSearchCV\n",
    "\n",
    "param_grid = {'C': [0.001, 0.01, 0.1, 1, 10, 100],\n",
    "              'gamma': [0.001, 0.01, 0.1, 1, 10, 100]}\n",
    "grid_search = GridSearchCV(SVC(), param_grid, cv=5, return_train_score=True)\n",
    "grid_search.fit(X_train, y_train)\n",
    "print(str(grid_search.best_params_) + \"  \" + str(grid_search.score(X_test, y_test)))\n",
    "print(\"best_params_:{}\".format(grid_search.best_params_))\n",
    "print(\"테스트셋 score:{:.2f}\".format(grid_search.score(X_test, y_test)))"
   ]
  },
  {
   "cell_type": "markdown",
   "metadata": {},
   "source": [
    "(5) 위의 grid와 SVC, <<<스케일 조정 후>>> 데이터로 GridSearchCV를 구성해 best_params_와 테스트셋 score를 산출하시오."
   ]
  },
  {
   "cell_type": "code",
   "execution_count": 58,
   "metadata": {
    "scrolled": true
   },
   "outputs": [
    {
     "name": "stdout",
     "output_type": "stream",
     "text": [
      "{'C': 10, 'gamma': 10}  0.94\n",
      "best_params_:{'C': 10, 'gamma': 10}\n",
      "테스트셋 score:0.94\n"
     ]
    }
   ],
   "source": [
    "grid_search_s = GridSearchCV(SVC(), param_grid, cv=5, return_train_score=True)\n",
    "grid_search_s.fit(X_train_scaled, y_train)\n",
    "print(str(grid_search_s.best_params_) + \"  \" + str(grid_search_s.score(X_test_scaled, y_test)))\n",
    "print(\"best_params_:{}\".format(grid_search_s.best_params_))\n",
    "print(\"테스트셋 score:{:.2f}\".format(grid_search_s.score(X_test_scaled, y_test)))"
   ]
  },
  {
   "cell_type": "markdown",
   "metadata": {},
   "source": [
    "(6) 아래와 같이 파라미터 미세 조정을 반영한 grid와 SVC, <<<스케일 조정 전>>> 데이터로 GridSearchCV를 구성해 best_params_와 훈련셋, 테스트셋 score를 산출하시오."
   ]
  },
  {
   "cell_type": "code",
   "execution_count": 61,
   "metadata": {},
   "outputs": [
    {
     "name": "stdout",
     "output_type": "stream",
     "text": [
      "{'C': 3, 'gamma': 0.005}  0.9813333333333333   0.952\n",
      "best_params_:{'C': 3, 'gamma': 0.005}\n",
      "훈련셋 score:0.98\n",
      "테스트셋 score:0.95\n"
     ]
    }
   ],
   "source": [
    "param_grid = {'C': [1, 2, 3, 4, 5],\n",
    "              'gamma': [0.003, 0.004, 0.005, 0.005, 0.007]}\n",
    "\n",
    "grid_search = GridSearchCV(SVC(), param_grid, cv=5, return_train_score=True)\n",
    "grid_search.fit(X_train, y_train)\n",
    "print(str(grid_search.best_params_) + \"  \" + str(grid_search.score(X_train, y_train)),\"  \"+str(grid_search.score(X_test, y_test)))\n",
    "print(\"best_params_:{}\".format(grid_search.best_params_))\n",
    "print(\"훈련셋 score:{:.2f}\".format(grid_search.score(X_train, y_train)))\n",
    "print(\"테스트셋 score:{:.2f}\".format(grid_search.score(X_test, y_test)))"
   ]
  },
  {
   "cell_type": "markdown",
   "metadata": {},
   "source": [
    "(7) 아래와 같이 파라미터 미세 조정을 반영한 grid와 SVC, <<<스케일 조정 후>>> 데이터로 GridSearchCV를 구성해 best_params_와 훈련셋, 테스트셋 score를 산출하시오."
   ]
  },
  {
   "cell_type": "code",
   "execution_count": 62,
   "metadata": {
    "scrolled": true
   },
   "outputs": [
    {
     "name": "stdout",
     "output_type": "stream",
     "text": [
      "{'C': 9, 'gamma': 3}  0.972   0.924\n",
      "best_params_:{'C': 9, 'gamma': 3}\n",
      "훈련셋 score:0.97\n",
      "테스트셋 score:0.92\n"
     ]
    }
   ],
   "source": [
    "param_grid = {'C': [8, 9, 10, 15, 20],\n",
    "              'gamma': [1, 2, 3, 4, 5]}\n",
    "grid_search = GridSearchCV(SVC(), param_grid, cv=5, return_train_score=True)\n",
    "grid_search.fit(X_train_scaled, y_train)\n",
    "print(str(grid_search.best_params_) + \"  \" + str(grid_search.score(X_train_scaled, y_train)),\"  \"+str(grid_search.score(X_test_scaled, y_test)))\n",
    "print(\"best_params_:{}\".format(grid_search.best_params_))\n",
    "print(\"훈련셋 score:{:.2f}\".format(grid_search.score(X_train_scaled, y_train)))\n",
    "print(\"테스트셋 score:{:.2f}\".format(grid_search.score(X_test_scaled, y_test)))"
   ]
  }
 ],
 "metadata": {
  "kernelspec": {
   "display_name": "Python 3",
   "language": "python",
   "name": "python3"
  },
  "language_info": {
   "codemirror_mode": {
    "name": "ipython",
    "version": 3
   },
   "file_extension": ".py",
   "mimetype": "text/x-python",
   "name": "python",
   "nbconvert_exporter": "python",
   "pygments_lexer": "ipython3",
   "version": "3.6.7"
  },
  "varInspector": {
   "cols": {
    "lenName": 16,
    "lenType": 16,
    "lenVar": 40
   },
   "kernels_config": {
    "python": {
     "delete_cmd_postfix": "",
     "delete_cmd_prefix": "del ",
     "library": "var_list.py",
     "varRefreshCmd": "print(var_dic_list())"
    },
    "r": {
     "delete_cmd_postfix": ") ",
     "delete_cmd_prefix": "rm(",
     "library": "var_list.r",
     "varRefreshCmd": "cat(var_dic_list()) "
    }
   },
   "types_to_exclude": [
    "module",
    "function",
    "builtin_function_or_method",
    "instance",
    "_Feature"
   ],
   "window_display": false
  }
 },
 "nbformat": 4,
 "nbformat_minor": 2
}
